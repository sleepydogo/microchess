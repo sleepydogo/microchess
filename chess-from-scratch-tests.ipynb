{
 "cells": [
  {
   "cell_type": "code",
   "execution_count": 1,
   "metadata": {},
   "outputs": [],
   "source": [
    "import numpy as np"
   ]
  },
  {
   "cell_type": "code",
   "execution_count": 2,
   "metadata": {},
   "outputs": [],
   "source": [
    "class Piece:\n",
    "    none =   np.uint8(0)\n",
    "    king =   np.uint8(1)\n",
    "    pawn =   np.uint8(2)\n",
    "    knight = np.uint8(3) \n",
    "    bishop = np.uint8(4)\n",
    "    rook =   np.uint8(5)\n",
    "    queen =     np.uint8(6)\n",
    "    \n",
    "    white = np.uint8(8)\n",
    "    black = np.uint8(16)"
   ]
  },
  {
   "cell_type": "code",
   "execution_count": 6,
   "metadata": {},
   "outputs": [
    {
     "name": "stdout",
     "output_type": "stream",
     "text": [
      "rnbqkbnr/pppppppp/8/8/8/8/PPPPPPPP/RNBQKBNR\n",
      "[13 11 12 14  9 12 11 13 10 10 10 10 10 10 10 10  0  0  0  0  0  0  0  0\n",
      "  0  0  0  0  0  0  0  0  0  0  0  0  0  0  0  0  0  0  0  0  0  0  0  0\n",
      " 18 18 18 18 18 18 18 18 21 19 20 22 17 20 19 21]\n"
     ]
    }
   ],
   "source": [
    "casillas = np.zeros(shape=64, dtype=np.uint8)\n",
    "\n",
    "\n",
    "def loadPositionFromFen(fen):\n",
    "    dict = {\n",
    "        'k': Piece.king,\n",
    "        'p': Piece.pawn,\n",
    "        'n': Piece.knight,\n",
    "        'b': Piece.bishop,\n",
    "        'r': Piece.rook,\n",
    "            'q': Piece.queen\n",
    "    }\n",
    "    fenBoard = fen.split(' ')[0]\n",
    "    print(fenBoard)\n",
    "    rank = 7\n",
    "    file = 0\n",
    "    for e in fenBoard:\n",
    "        if (e == '/'):\n",
    "              file = 0\n",
    "              rank = rank - 1\n",
    "        else:\n",
    "            if (e.isdigit()):\n",
    "                file = file + int(e)\n",
    "            else:\n",
    "                if e.isupper():\n",
    "                    pieceColour = Piece.white\n",
    "                else:\n",
    "                    pieceColour = Piece.black\n",
    "                pieceType = dict[str(e.lower())]\n",
    "                casillas[rank * 8 + file] = pieceType + pieceColour\n",
    "                file = file + 1\n",
    "\n",
    "\n",
    "test = \"rnbqkbnr/pppppppp/8/8/8/8/PPPPPPPP/RNBQKBNR w KQkq - 0 1\"\n",
    "loadPositionFromFen(test)\n",
    "print(casillas)"
   ]
  }
 ],
 "metadata": {
  "kernelspec": {
   "display_name": "Python 3",
   "language": "python",
   "name": "python3"
  },
  "language_info": {
   "codemirror_mode": {
    "name": "ipython",
    "version": 3
   },
   "file_extension": ".py",
   "mimetype": "text/x-python",
   "name": "python",
   "nbconvert_exporter": "python",
   "pygments_lexer": "ipython3",
   "version": "3.10.6"
  },
  "orig_nbformat": 4
 },
 "nbformat": 4,
 "nbformat_minor": 2
}
